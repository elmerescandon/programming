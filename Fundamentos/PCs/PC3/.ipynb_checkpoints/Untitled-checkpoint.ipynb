{
 "cells": [
  {
   "cell_type": "code",
   "execution_count": 27,
   "metadata": {},
   "outputs": [
    {
     "name": "stdout",
     "output_type": "stream",
     "text": [
      "[[1.20000000e+00]\n",
      " [1.50706114e-16]\n",
      " [6.02824457e-16]]\n"
     ]
    }
   ],
   "source": [
    "from funciones import *\n",
    "import numpy as np\n",
    "import sympy as \n",
    "\n",
    "A = np.array([[0.707,0.707,0.2262],\n",
    "              [0.707,-0.707,-0.2262],\n",
    "              [0.707,0.707,-0.2262],\n",
    "              [0.707,-0.707,0.2262]])\n",
    "B = 0.06*0.707\n",
    "\n",
    "Twist =np.array([[0.2],\n",
    "                 [0.346],\n",
    "                [0]])\n",
    "\n",
    "velocidades_angulares_ruedas = (A.dot(Twist))/B\n",
    "print(velocidades_angulares_ruedas)"
   ]
  },
  {
   "cell_type": "code",
   "execution_count": null,
   "metadata": {},
   "outputs": [],
   "source": [
    "A = np.array([[0.707,0.707,0.2262],\n",
    "              [0.707,-0.707,-0.2262],\n",
    "              [0.707,0.707,-0.2262],\n",
    "              [0.707,-0.707,0.2262]])\n",
    "B = 0.06*0.707\n",
    "\n",
    "vels =np.array([[20],\n",
    "                [20],\n",
    "                [20],\n",
    "                [20]])\n",
    "\n",
    "velocidades_angulares_ruedas = B*(np.linalg.pinv(A).dot(vels))\n",
    "print(velocidades_angulares_ruedas)"
   ]
  },
  {
   "cell_type": "code",
   "execution_count": 26,
   "metadata": {},
   "outputs": [
    {
     "data": {
      "text/latex": [
       "$\\displaystyle \\left[\\begin{matrix}0.015 \\phi_1 + 0.015 \\phi_2 + 0.015 \\phi_3 + 0.015 \\phi_4\\\\0.015 \\phi_1 - 0.015 \\phi_2 + 0.015 \\phi_3 - 0.015 \\phi_4\\\\0.0468832891246684 \\phi_1 - 0.0468832891246684 \\phi_2 - 0.0468832891246684 \\phi_3 + 0.0468832891246684 \\phi_4\\end{matrix}\\right]$"
      ],
      "text/plain": [
       "⎡                          0.015⋅\\phi₁ + 0.015⋅\\phi₂ + 0.015⋅\\phi₃ + 0.015⋅\\ph\n",
       "⎢                                                                             \n",
       "⎢                          0.015⋅\\phi₁ - 0.015⋅\\phi₂ + 0.015⋅\\phi₃ - 0.015⋅\\ph\n",
       "⎢                                                                             \n",
       "⎣0.0468832891246684⋅\\phi₁ - 0.0468832891246684⋅\\phi₂ - 0.0468832891246684⋅\\phi\n",
       "\n",
       "i₄                          ⎤\n",
       "                            ⎥\n",
       "i₄                          ⎥\n",
       "                            ⎥\n",
       "₃ + 0.0468832891246684⋅\\phi₄⎦"
      ]
     },
     "metadata": {},
     "output_type": "display_data"
    }
   ],
   "source": [
    "vx,vy,ang,ph1,ph2,ph3,ph4 = sp.symbols(r'v_x v_y \\theta \\phi_1 \\phi_2 \\phi_3 \\phi_4')\n",
    "A = sp.Matrix([[0.707,0.707,0.2262],\n",
    "              [0.707,-0.707,-0.2262],\n",
    "              [0.707,0.707,-0.2262],\n",
    "              [0.707,-0.707,0.2262]])\n",
    "B = 0.06*0.707\n",
    "#Twist = sp.Matrix([[vx],[vy],[ang]])\n",
    "Vels = sp.Matrix([[ph1],[ph2],[ph3],[ph4]])\n",
    "\n",
    "Twist = (A.pinv())*B*Vels\n",
    "display(Twist)"
   ]
  }
 ],
 "metadata": {
  "kernelspec": {
   "display_name": "Python 3",
   "language": "python",
   "name": "python3"
  },
  "language_info": {
   "codemirror_mode": {
    "name": "ipython",
    "version": 3
   },
   "file_extension": ".py",
   "mimetype": "text/x-python",
   "name": "python",
   "nbconvert_exporter": "python",
   "pygments_lexer": "ipython3",
   "version": "3.8.3"
  }
 },
 "nbformat": 4,
 "nbformat_minor": 4
}
