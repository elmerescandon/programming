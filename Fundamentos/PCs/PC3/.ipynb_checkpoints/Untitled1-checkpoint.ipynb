{
 "cells": [
  {
   "cell_type": "code",
   "execution_count": 1,
   "metadata": {},
   "outputs": [
    {
     "ename": "NameError",
     "evalue": "name 'R1' is not defined",
     "output_type": "error",
     "traceback": [
      "\u001b[1;31m---------------------------------------------------------------------------\u001b[0m",
      "\u001b[1;31mNameError\u001b[0m                                 Traceback (most recent call last)",
      "\u001b[1;32m<ipython-input-1-e3dcddf6c023>\u001b[0m in \u001b[0;36m<module>\u001b[1;34m\u001b[0m\n\u001b[0;32m     35\u001b[0m                  [-sin(q2),0,cos(q2)]])\n\u001b[0;32m     36\u001b[0m \u001b[1;33m\u001b[0m\u001b[0m\n\u001b[1;32m---> 37\u001b[1;33m \u001b[0mz\u001b[0m \u001b[1;33m=\u001b[0m \u001b[1;33m[\u001b[0m\u001b[0mR1\u001b[0m\u001b[1;33m[\u001b[0m\u001b[1;36m0\u001b[0m\u001b[1;33m:\u001b[0m\u001b[1;36m3\u001b[0m\u001b[1;33m,\u001b[0m\u001b[1;36m2\u001b[0m\u001b[1;33m]\u001b[0m\u001b[1;33m,\u001b[0m\u001b[0mR2\u001b[0m\u001b[1;33m[\u001b[0m\u001b[1;36m0\u001b[0m\u001b[1;33m:\u001b[0m\u001b[1;36m3\u001b[0m\u001b[1;33m,\u001b[0m\u001b[1;36m2\u001b[0m\u001b[1;33m]\u001b[0m\u001b[1;33m]\u001b[0m\u001b[1;33m\u001b[0m\u001b[1;33m\u001b[0m\u001b[0m\n\u001b[0m\u001b[0;32m     38\u001b[0m \u001b[0mtipos_z\u001b[0m\u001b[1;33m=\u001b[0m \u001b[1;33m[\u001b[0m\u001b[1;34m'r'\u001b[0m\u001b[1;33m,\u001b[0m\u001b[1;34m'p'\u001b[0m\u001b[1;33m]\u001b[0m\u001b[1;33m\u001b[0m\u001b[1;33m\u001b[0m\u001b[0m\n\u001b[0;32m     39\u001b[0m \u001b[0mcp\u001b[0m \u001b[1;33m=\u001b[0m \u001b[1;33m[\u001b[0m\u001b[0mpc1\u001b[0m\u001b[1;33m,\u001b[0m\u001b[0mpc2\u001b[0m\u001b[1;33m]\u001b[0m\u001b[1;33m\u001b[0m\u001b[1;33m\u001b[0m\u001b[0m\n",
      "\u001b[1;31mNameError\u001b[0m: name 'R1' is not defined"
     ]
    }
   ],
   "source": [
    "from funciones import * \n",
    "import sympy as sp\n",
    "\n",
    "from sympy.matrices import Matrix\n",
    "\n",
    "sin = sp.sin\n",
    "cos = sp.cos\n",
    "\n",
    "q1,q2,l1,l2,m1,m2 = sp.symbols(r'q_1 q_2 l_1 l_2  m_1 m_2')\n",
    "qd1,qd2,g,m1,m2 = sp.symbols(r'\\dot{q_1} \\dot{q_2} g m_1 m_2')\n",
    "Ixx1,Ixy1,Ixz1,Iyx1,Iyy1,Iyz1,Izx1,Izy1,Izz1 = sp.symbols(r'I_{xx_1} I_{xy_1} I_{xz_1} I_{yx_1} I_{yy_1} I_{yz_1} I_{zx_1} I_{zy_1} I_{zz1}' )\n",
    "Ixx2,Ixy2,Ixz2,Iyx2,Iyy2,Iyz2,Izx2,Izy2,Izz2 = sp.symbols(r'I_{xx_2} I_{xy_2} I_{xz_2} I_{yx_2} I_{yy_2} I_{yz_2} I_{zx_2} I_{zy_2} I_{zz_2}' )\n",
    "\n",
    "\n",
    "# Centros de Masa\n",
    "pc1 = sp.Matrix([[q1],\n",
    "                 [0],\n",
    "                 [0]])\n",
    "pc2 = sp.Matrix([[q1+l1+l2*cos(q2)],\n",
    "                 [0],\n",
    "                 [l2*sin(q2)]])\n",
    "\n",
    "# Matrices Inerciales\n",
    "I1 = sp.Matrix([[Ixx1,Ixy1,Ixz1],\n",
    "                [Iyx1,Iyy1,Iyz1],\n",
    "                [Izx1,Izy1,Izz1]])\n",
    "I2 = sp.Matrix([[Ixx2,Ixy2,Ixz2],\n",
    "                [Iyx2,Iyy2,Iyz2],\n",
    "                [Izx2,Izy2,Izz2]])\n",
    "R1_q1 =  sp.Matrix([[1,0,0],\n",
    "                 [0,1,0],\n",
    "                 [0,0,1]])\n",
    "R2_q2 =  sp.Matrix([[cos(q2),0,sin(q2)],\n",
    "                 [0,1,0],\n",
    "                 [-sin(q2),0,cos(q2)]])\n",
    "\n",
    "z = [R1_q1[0:3,2],R2_q2[0:3,2]]\n",
    "tipos_z= ['r','p']\n",
    "cp = [pc1,pc2]\n",
    "qs = [q1,q2]\n",
    "Jv = linear_velocity_CoM(cp,qs,z,tipos_z)\n",
    "Jw = angular_velocity_CoM(cp,z,tipos_z)\n",
    "R = [R1_q1,R2_q2]\n",
    "m = [m1,m2]\n",
    "I = [I1,I2]\n",
    "q_dots = [qd1,qd2]\n",
    "g_vec = sp.Matrix([[0],[0],[-g]])\n",
    "\n",
    "matrix_m = Mass_Matrix(Jv,Jw,R,m,I)\n",
    "matrix_c = Coriolis_Matrix(matrix_m,q_dots,qs)\n",
    "vector_g = GravitationalForce_vector(Jv,m,g_vec)\n",
    "display(matrix_m)\n",
    "display(matrix_c)\n",
    "display(vector_g)\n"
   ]
  }
 ],
 "metadata": {
  "kernelspec": {
   "display_name": "Python 3",
   "language": "python",
   "name": "python3"
  },
  "language_info": {
   "codemirror_mode": {
    "name": "ipython",
    "version": 3
   },
   "file_extension": ".py",
   "mimetype": "text/x-python",
   "name": "python",
   "nbconvert_exporter": "python",
   "pygments_lexer": "ipython3",
   "version": "3.8.3"
  }
 },
 "nbformat": 4,
 "nbformat_minor": 4
}
