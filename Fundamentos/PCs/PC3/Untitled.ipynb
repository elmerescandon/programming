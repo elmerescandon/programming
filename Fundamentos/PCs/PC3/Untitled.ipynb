{
 "cells": [
  {
   "cell_type": "code",
   "execution_count": 61,
   "metadata": {},
   "outputs": [
    {
     "name": "stdout",
     "output_type": "stream",
     "text": [
      "[[ 9.1       ]\n",
      " [-2.43333333]\n",
      " [ 9.1       ]\n",
      " [-2.43333333]]\n"
     ]
    },
    {
     "data": {
      "text/latex": [
       "$\\displaystyle \\left[\\begin{matrix}1.2\\\\0\\\\0\\end{matrix}\\right]$"
      ],
      "text/plain": [
       "⎡1.2⎤\n",
       "⎢   ⎥\n",
       "⎢ 0 ⎥\n",
       "⎢   ⎥\n",
       "⎣ 0 ⎦"
      ]
     },
     "metadata": {},
     "output_type": "display_data"
    },
    {
     "data": {
      "text/latex": [
       "$\\displaystyle \\left[\\begin{matrix}0\\\\1.2\\\\0\\end{matrix}\\right]$"
      ],
      "text/plain": [
       "⎡ 0 ⎤\n",
       "⎢   ⎥\n",
       "⎢1.2⎥\n",
       "⎢   ⎥\n",
       "⎣ 0 ⎦"
      ]
     },
     "metadata": {},
     "output_type": "display_data"
    },
    {
     "data": {
      "text/latex": [
       "$\\displaystyle \\left[\\begin{matrix}0\\\\0\\\\3.75066312997347\\end{matrix}\\right]$"
      ],
      "text/plain": [
       "⎡       0        ⎤\n",
       "⎢                ⎥\n",
       "⎢       0        ⎥\n",
       "⎢                ⎥\n",
       "⎣3.75066312997347⎦"
      ]
     },
     "metadata": {},
     "output_type": "display_data"
    }
   ],
   "source": [
    "from funciones import *\n",
    "import numpy as np\n",
    "import sympy as sp\n",
    "\n",
    "A = np.array([[0.707,0.707,0.2262],\n",
    "              [0.707,-0.707,-0.2262],\n",
    "              [0.707,0.707,-0.2262],\n",
    "              [0.707,-0.707,0.2262]])\n",
    "B = 0.06*0.707\n",
    "\n",
    "Twist =np.array([[0.2],\n",
    "                 [0.346],\n",
    "                [0]])\n",
    "\n",
    "velocidades_angulares_ruedas = (A.dot(Twist))/B\n",
    "print(velocidades_angulares_ruedas)\n",
    "\n",
    "vx,vy,ang,ph1,ph2,ph3,ph4 = sp.symbols(r'v_x v_y \\theta \\phi_1 \\phi_2 \\phi_3 \\phi_4')\n",
    "A = sp.Matrix([[0.707,0.707,0.2262],\n",
    "              [0.707,-0.707,-0.2262],\n",
    "              [0.707,0.707,-0.2262],\n",
    "              [0.707,-0.707,0.2262]])\n",
    "B = 0.06*0.707\n",
    "#Twist = sp.Matrix([[vx],[vy],[ang]])\n",
    "Vels = sp.Matrix([[ph1],[ph2],[ph3],[ph4]])\n",
    "\n",
    "Twist = (A.pinv())*B*Vels\n",
    "resul1 = Twist.subs([(ph1,20),(ph2,20),(ph3,20),(ph4,20)]) # x solo \n",
    "resul2 = Twist.subs([(ph1,20),(ph2,-20),(ph3,20),(ph4,-20)]) # Y solo\n",
    "resul3 = Twist.subs([(ph1,20),(ph2,-20),(ph3,-20),(ph4,20)]) # Theta solo\n",
    "display(resul1)\n",
    "display(resul2)\n",
    "display(resul3)"
   ]
  },
  {
   "cell_type": "code",
   "execution_count": null,
   "metadata": {},
   "outputs": [],
   "source": []
  },
  {
   "cell_type": "code",
   "execution_count": null,
   "metadata": {},
   "outputs": [],
   "source": []
  },
  {
   "cell_type": "code",
   "execution_count": 58,
   "metadata": {},
   "outputs": [
    {
     "data": {
      "text/latex": [
       "$\\displaystyle \\left[\\begin{matrix}1.2\\\\0\\\\0\\end{matrix}\\right]$"
      ],
      "text/plain": [
       "⎡1.2⎤\n",
       "⎢   ⎥\n",
       "⎢ 0 ⎥\n",
       "⎢   ⎥\n",
       "⎣ 0 ⎦"
      ]
     },
     "metadata": {},
     "output_type": "display_data"
    },
    {
     "data": {
      "text/latex": [
       "$\\displaystyle \\left[\\begin{matrix}0\\\\1.2\\\\0\\end{matrix}\\right]$"
      ],
      "text/plain": [
       "⎡ 0 ⎤\n",
       "⎢   ⎥\n",
       "⎢1.2⎥\n",
       "⎢   ⎥\n",
       "⎣ 0 ⎦"
      ]
     },
     "metadata": {},
     "output_type": "display_data"
    },
    {
     "data": {
      "text/latex": [
       "$\\displaystyle \\left[\\begin{matrix}0\\\\0\\\\3.75066312997347\\end{matrix}\\right]$"
      ],
      "text/plain": [
       "⎡       0        ⎤\n",
       "⎢                ⎥\n",
       "⎢       0        ⎥\n",
       "⎢                ⎥\n",
       "⎣3.75066312997347⎦"
      ]
     },
     "metadata": {},
     "output_type": "display_data"
    }
   ],
   "source": []
  }
 ],
 "metadata": {
  "kernelspec": {
   "display_name": "Python 3",
   "language": "python",
   "name": "python3"
  },
  "language_info": {
   "codemirror_mode": {
    "name": "ipython",
    "version": 3
   },
   "file_extension": ".py",
   "mimetype": "text/x-python",
   "name": "python",
   "nbconvert_exporter": "python",
   "pygments_lexer": "ipython3",
   "version": "3.8.3"
  }
 },
 "nbformat": 4,
 "nbformat_minor": 4
}
