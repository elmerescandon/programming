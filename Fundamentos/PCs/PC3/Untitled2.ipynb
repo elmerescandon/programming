{
 "cells": [
  {
   "cell_type": "code",
   "execution_count": 4,
   "metadata": {},
   "outputs": [
    {
     "name": "stdout",
     "output_type": "stream",
     "text": [
      "[[-0.17241379]\n",
      " [ 0.60344828]]\n",
      "[[1.38777878e-16]\n",
      " [1.00000000e+00]]\n",
      "[[0.03448276]\n",
      " [0.87931034]]\n"
     ]
    }
   ],
   "source": [
    "import numpy as np \n",
    "\n",
    "# Para x1 \n",
    "x_1 = np.array([[0.5],[0],[-0.5],[0]])\n",
    "A_1 = np.array([[1,1],\n",
    "              [1,0],\n",
    "              [6,1],\n",
    "              [1,0]])\n",
    "# Para x2\n",
    "x_2 = np.array([[1],[0],[1],[0]])\n",
    "A_2 = np.array([[1,1],\n",
    "              [1,0],\n",
    "              [6,1],\n",
    "              [1,0]])\n",
    "# Para x3 \n",
    "x_3 = np.array([[0.9],[0],[1.1],[0]])\n",
    "A_3 = np.array([[1,1],\n",
    "              [1,0],\n",
    "              [6,1],\n",
    "              [1,0]])\n",
    "coefs_1 = np.linalg.pinv(A_1).dot(x_1)\n",
    "coefs_2 = np.linalg.pinv(A_2).dot(x_2)\n",
    "coefs_3 = np.linalg.pinv(A_3).dot(x_3)\n",
    "print(\"C\")\n",
    "print(coefs_1)\n",
    "print(coefs_2)\n",
    "print(coefs_3)\n",
    "\n"
   ]
  }
 ],
 "metadata": {
  "kernelspec": {
   "display_name": "Python 3",
   "language": "python",
   "name": "python3"
  },
  "language_info": {
   "codemirror_mode": {
    "name": "ipython",
    "version": 3
   },
   "file_extension": ".py",
   "mimetype": "text/x-python",
   "name": "python",
   "nbconvert_exporter": "python",
   "pygments_lexer": "ipython3",
   "version": "3.8.3"
  }
 },
 "nbformat": 4,
 "nbformat_minor": 4
}
