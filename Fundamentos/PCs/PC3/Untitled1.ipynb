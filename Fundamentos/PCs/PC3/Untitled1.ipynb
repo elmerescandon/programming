{
 "cells": [
  {
   "cell_type": "code",
   "execution_count": 6,
   "metadata": {},
   "outputs": [
    {
     "data": {
      "text/latex": [
       "$\\displaystyle \\left[\\begin{matrix}m_{1} + m_{2} & l_{2} m_{2} \\cos{\\left(q_{2} \\right)}\\\\l_{2} m_{2} \\cos{\\left(q_{2} \\right)} & I_{zz_2} + l_{2}^{2} m_{2}\\end{matrix}\\right]$"
      ],
      "text/plain": [
       "⎡   m₁ + m₂       l₂⋅m₂⋅cos(q₂)  ⎤\n",
       "⎢                                ⎥\n",
       "⎢                            2   ⎥\n",
       "⎣l₂⋅m₂⋅cos(q₂)  I_{zz_2} + l₂ ⋅m₂⎦"
      ]
     },
     "metadata": {},
     "output_type": "display_data"
    },
    {
     "data": {
      "text/latex": [
       "$\\displaystyle \\left[\\begin{matrix}0 & - 1.0 \\dot{q_2} l_{2} m_{2} \\sin{\\left(q_{2} \\right)}\\\\0 & 0\\end{matrix}\\right]$"
      ],
      "text/plain": [
       "⎡0  -1.0⋅\\dot{q_2}⋅l₂⋅m₂⋅sin(q₂)⎤\n",
       "⎢                               ⎥\n",
       "⎣0               0              ⎦"
      ]
     },
     "metadata": {},
     "output_type": "display_data"
    },
    {
     "data": {
      "text/latex": [
       "$\\displaystyle \\left[\\begin{matrix}g \\left(m_{1} + m_{2}\\right)\\\\g l_{2} m_{2} \\cos{\\left(q_{2} \\right)}\\end{matrix}\\right]$"
      ],
      "text/plain": [
       "⎡  g⋅(m₁ + m₂)  ⎤\n",
       "⎢               ⎥\n",
       "⎣g⋅l₂⋅m₂⋅cos(q₂)⎦"
      ]
     },
     "metadata": {},
     "output_type": "display_data"
    },
    {
     "data": {
      "text/latex": [
       "$\\displaystyle \\left[\\begin{matrix}\\ddot{q_1} \\left(m_{1} + m_{2}\\right) + \\ddot{q_2} l_{2} m_{2} \\cos{\\left(q_{2} \\right)} - 1.0 \\dot{q_2}^{2} l_{2} m_{2} \\sin{\\left(q_{2} \\right)} + g \\left(m_{1} + m_{2}\\right)\\\\\\ddot{q_1} l_{2} m_{2} \\cos{\\left(q_{2} \\right)} + \\ddot{q_2} \\left(I_{zz_2} + l_{2}^{2} m_{2}\\right) + g l_{2} m_{2} \\cos{\\left(q_{2} \\right)}\\end{matrix}\\right]$"
      ],
      "text/plain": [
       "⎡                                                               2             \n",
       "⎢\\ddot{q_1}⋅(m₁ + m₂) + \\ddot{q_2}⋅l₂⋅m₂⋅cos(q₂) - 1.0⋅\\dot{q_2} ⋅l₂⋅m₂⋅sin(q₂\n",
       "⎢                                                                             \n",
       "⎢                                              ⎛             2   ⎞            \n",
       "⎣        \\ddot{q_1}⋅l₂⋅m₂⋅cos(q₂) + \\ddot{q_2}⋅⎝I_{zz_2} + l₂ ⋅m₂⎠ + g⋅l₂⋅m₂⋅c\n",
       "\n",
       "               ⎤\n",
       ") + g⋅(m₁ + m₂)⎥\n",
       "               ⎥\n",
       "               ⎥\n",
       "os(q₂)         ⎦"
      ]
     },
     "metadata": {},
     "output_type": "display_data"
    }
   ],
   "source": [
    "from funciones import * \n",
    "import sympy as sp\n",
    "\n",
    "from sympy.matrices import Matrix\n",
    "\n",
    "sin = sp.sin\n",
    "cos = sp.cos\n",
    "\n",
    "q1,q2,l1,l2,m1,m2 = sp.symbols(r'q_1 q_2 l_1 l_2  m_1 m_2')\n",
    "qd1,qd2,g,m1,m2 = sp.symbols(r'\\dot{q_1} \\dot{q_2} g m_1 m_2')\n",
    "Ixx1,Ixy1,Ixz1,Iyx1,Iyy1,Iyz1,Izx1,Izy1,Izz1 = sp.symbols(r'I_{xx_1} I_{xy_1} I_{xz_1} I_{yx_1} I_{yy_1} I_{yz_1} I_{zx_1} I_{zy_1} I_{zz1}' )\n",
    "Ixx2,Ixy2,Ixz2,Iyx2,Iyy2,Iyz2,Izx2,Izy2,Izz2 = sp.symbols(r'I_{xx_2} I_{xy_2} I_{xz_2} I_{yx_2} I_{yy_2} I_{yz_2} I_{zx_2} I_{zy_2} I_{zz_2}' )\n",
    "\n",
    "\n",
    "# Centros de Masa\n",
    "pc1 = sp.Matrix([[q1],\n",
    "                 [0],\n",
    "                 [0]])\n",
    "pc2 = sp.Matrix([[q1+l1+l2*cos(q2)],\n",
    "                 [0],\n",
    "                 [l2*sin(q2)]])\n",
    "\n",
    "# Matrices Inerciales\n",
    "I1 = sp.Matrix([[Ixx1,Ixy1,Ixz1],\n",
    "                [Iyx1,Iyy1,Iyz1],\n",
    "                [Izx1,Izy1,Izz1]])\n",
    "I2 = sp.Matrix([[Ixx2,Ixy2,Ixz2],\n",
    "                [Iyx2,Iyy2,Iyz2],\n",
    "                [Izx2,Izy2,Izz2]])\n",
    "R1_q1 =  sp.Matrix([[1,0,0],\n",
    "                 [0,1,0],\n",
    "                 [0,0,1]])\n",
    "R2_q2 =  sp.Matrix([[1,0,0],\n",
    "                 [0,1,0],\n",
    "                 [0,0,1]])\n",
    "# R2_q2 =  sp.Matrix([[cos(q2),0,sin(q2)],\n",
    "#                  [0,1,0],\n",
    "#                  [-sin(q2),0,cos(q2)]])\n",
    "\n",
    "z = [R1_q1[0:3,2],R2_q2[0:3,2]]\n",
    "tipos_z= ['p','r']\n",
    "cp = [pc1,pc2]\n",
    "qs = [q1,q2]\n",
    "Jv = linear_velocity_CoM(cp,qs,z,tipos_z)\n",
    "Jw = angular_velocity_CoM(cp,z,tipos_z)\n",
    "R = [R1_q1,R2_q2]\n",
    "m = [m1,m2]\n",
    "I = [I1,I2]\n",
    "q_dots = [qd1,qd2]\n",
    "g_vec = sp.Matrix([[0],[0],[-g]])\n",
    "\n",
    "matrix_m = Mass_Matrix(Jv,Jw,R,m,I)\n",
    "matrix_c = Coriolis_Matrix(matrix_m,q_dots,qs)\n",
    "vector_g = GravitationalForce_vector(Jv,m,g_vec)\n",
    "display(matrix_m)\n",
    "display(matrix_c)\n",
    "display(vector_g)\n",
    "\n",
    "# Mostrar el torque resultante \n",
    "t1,t2 = sp.symbols(r'\\tau_1 \\tau_2')\n",
    "q_dd1, q_dd2 = sp.symbols(r'\\ddot{q_1} \\ddot{q_2}')\n",
    "tau_vector = sp.Matrix([[t1],[t2]])\n",
    "acc_vector = sp.Matrix([[q_dd1],[q_dd2]])\n",
    "vel_vector = sp.Matrix([[qd1],[qd2]])\n",
    "\n",
    "F = matrix_m*acc_vector + matrix_c*vel_vector + vector_g\n",
    "display(F)\n",
    "\n"
   ]
  }
 ],
 "metadata": {
  "kernelspec": {
   "display_name": "Python 3",
   "language": "python",
   "name": "python3"
  },
  "language_info": {
   "codemirror_mode": {
    "name": "ipython",
    "version": 3
   },
   "file_extension": ".py",
   "mimetype": "text/x-python",
   "name": "python",
   "nbconvert_exporter": "python",
   "pygments_lexer": "ipython3",
   "version": "3.8.3"
  }
 },
 "nbformat": 4,
 "nbformat_minor": 4
}
