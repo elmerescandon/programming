{
 "cells": [
  {
   "cell_type": "code",
   "execution_count": 32,
   "metadata": {},
   "outputs": [
    {
     "data": {
      "text/latex": [
       "$\\displaystyle \\left[\\begin{matrix}I_{zz_1} + I_{zz_2} + l_{c_1}^{2} m_{1} + l_{c_1}^{2} m_{2} + 2 l_{c_1} l_{c_2} m_{2} \\cos{\\left(q_{2} \\right)} + l_{c_2}^{2} m_{2} & I_{zz_2} + l_{c_1} l_{c_2} m_{2} \\cos{\\left(q_{2} \\right)} + l_{c_2}^{2} m_{2}\\\\I_{zz_2} + l_{c_1} l_{c_2} m_{2} \\cos{\\left(q_{2} \\right)} + l_{c_2}^{2} m_{2} & I_{zz_2} + l_{c_2}^{2} m_{2}\\end{matrix}\\right]$"
      ],
      "text/plain": [
       "⎡                             2             2                                 \n",
       "⎢I_{zz_1} + I_{zz_2} + l_{c_1} ⋅m₁ + l_{c_1} ⋅m₂ + 2⋅l_{c_1}⋅l_{c_2}⋅m₂⋅cos(q₂\n",
       "⎢                                                                             \n",
       "⎢                                                                   2         \n",
       "⎣                    I_{zz_2} + l_{c_1}⋅l_{c_2}⋅m₂⋅cos(q₂) + l_{c_2} ⋅m₂      \n",
       "\n",
       "           2                                                    2   ⎤\n",
       ") + l_{c_2} ⋅m₂  I_{zz_2} + l_{c_1}⋅l_{c_2}⋅m₂⋅cos(q₂) + l_{c_2} ⋅m₂⎥\n",
       "                                                                    ⎥\n",
       "                                                 2                  ⎥\n",
       "                               I_{zz_2} + l_{c_2} ⋅m₂               ⎦"
      ]
     },
     "metadata": {},
     "output_type": "display_data"
    },
    {
     "data": {
      "text/latex": [
       "$\\displaystyle \\left[\\begin{matrix}I_{zz_1} + I_{zz_2} + l_{c_1}^{2} m_{1} + l_{c_1}^{2} m_{2} + 2 l_{c_1} l_{c_2} m_{2} \\cos{\\left(q_{2} \\right)} + l_{c_2}^{2} m_{2} & I_{zz_2} + l_{c_1} l_{c_2} m_{2} \\cos{\\left(q_{2} \\right)} + l_{c_2}^{2} m_{2}\\\\I_{zz_2} + l_{c_1} l_{c_2} m_{2} \\cos{\\left(q_{2} \\right)} + l_{c_2}^{2} m_{2} & I_{zz_2} + l_{c_2}^{2} m_{2}\\end{matrix}\\right]$"
      ],
      "text/plain": [
       "⎡                             2             2                                 \n",
       "⎢I_{zz_1} + I_{zz_2} + l_{c_1} ⋅m₁ + l_{c_1} ⋅m₂ + 2⋅l_{c_1}⋅l_{c_2}⋅m₂⋅cos(q₂\n",
       "⎢                                                                             \n",
       "⎢                                                                   2         \n",
       "⎣                    I_{zz_2} + l_{c_1}⋅l_{c_2}⋅m₂⋅cos(q₂) + l_{c_2} ⋅m₂      \n",
       "\n",
       "           2                                                    2   ⎤\n",
       ") + l_{c_2} ⋅m₂  I_{zz_2} + l_{c_1}⋅l_{c_2}⋅m₂⋅cos(q₂) + l_{c_2} ⋅m₂⎥\n",
       "                                                                    ⎥\n",
       "                                                 2                  ⎥\n",
       "                               I_{zz_2} + l_{c_2} ⋅m₂               ⎦"
      ]
     },
     "metadata": {},
     "output_type": "display_data"
    }
   ],
   "source": [
    "import sympy as sp\n",
    "import numpy as np \n",
    "sp.init_printing()\n",
    "\n",
    "l1,l1c,l2,l2c,q1,q2 = sp.symbols(r'l_1 l_{c_1} l_2 l_{c_2} q_1 q_2')\n",
    "m1,m2,Izz1,Izz2 = sp.symbols(r'm_1 m_2 I_{zz_1} I_{zz_2}')\n",
    "sin = sp.sin \n",
    "cos = sp.cos\n",
    "\n",
    "pc1 = sp.Matrix([[l1c*cos(q1)],\n",
    "                 [l1c*sin(q1)],\n",
    "                 [0]])\n",
    "\n",
    "pc2 = sp.Matrix([[l1c*cos(q1) + l2c*cos(q1+q2)],\n",
    "                 [l1c*sin(q1) + l2c*sin(q1+q2)],\n",
    "                 [0]])\n",
    "\n",
    "z0 = sp.Matrix([[0],[0],[1]])\n",
    "z1 = sp.Matrix([[0],[0],[1]])\n",
    "\n",
    "I1 = sp.Matrix([[0,0,0],\n",
    "                [0,0,0],\n",
    "                [0,0,Izz1]])\n",
    "I2 = sp.Matrix([[0,0,0],\n",
    "                [0,0,0],\n",
    "                [0,0,Izz2]])\n",
    "\n",
    "R1 = sp.Matrix([[cos(q1),sin(q1),0],\n",
    "                [-sin(q1),cos(q1),0],\n",
    "               [0,0,1]])\n",
    "R2 = sp.Matrix([[cos(q1+q2),sin(q1+q2),0],\n",
    "                [-sin(q1+q2),cos(q1+q2),0],\n",
    "               [0,0,1]])\n",
    "\n",
    "\n",
    "def linear_velocity_CoM(center_points,qs):\n",
    "  '''\n",
    "    Velocidad lineal del centro de masa para articulaciones rotacionales\n",
    "    Se asume que los center_points estan colocados de manera ordenada \n",
    "    cp = [c1,c2,c3,...,cn]\n",
    "    qs = [q1,q2,q3,...,qn]\n",
    "  '''\n",
    "  Js = []\n",
    "  for n in center_points: \n",
    "    Jv = sp.Matrix([])\n",
    "    for m in qs:\n",
    "        a = n.diff(m)\n",
    "        Jv = sp.Matrix.hstack(Jv,a)\n",
    "    Js.append(Jv)\n",
    "\n",
    "  return Js\n",
    "        \n",
    "def angular_velocity_CoM(center_points,axis):\n",
    "    '''\n",
    "    Velocidad angular del centro de masa para articulaciones\n",
    "    rotacionales\n",
    "    input: z = [z0,z1,...,zn]\n",
    "    '''\n",
    "    Js = []\n",
    "    for n in range(len(center_points)): \n",
    "        Jv = sp.Matrix([])\n",
    "        for m in range(len(axis)): \n",
    "            if n>=m:\n",
    "                Jv = sp.Matrix.hstack(Jv,axis[m])\n",
    "            else:\n",
    "                Jv = sp.Matrix.hstack(Jv,sp.Matrix([[0],[0],[0]]))\n",
    "        Js.append(Jv)\n",
    "    return Js\n",
    "            \n",
    "  \n",
    "z = [z0,z1]\n",
    "qs =[q1,q2]\n",
    "cp = [pc1,pc2]\n",
    "Jv = linear_velocity_CoM(cp,qs)\n",
    "Jw = angular_velocity_CoM(cp,z)\n",
    "R = [R1,R2]\n",
    "m = [m1,m2]\n",
    "I = [I1,I2]\n",
    "\n",
    "def Mass_Matrix(Jv,Jw,R,m,I):\n",
    "    Mass = sp.zeros(len(m),len(m))\n",
    "    for a in range(len(m)):\n",
    "        Mass = m[a]*(Jv[a].T)*(Jv[a]) + (Jw[a].T)*R1*I[a]*(R1.T)*(Jw[a]) + Mass\n",
    "    return sp.simplify(Mass)\n",
    "        \n",
    "Mass = m1*(Jv[0].T)*(Jv[0]) + (Jw[0].T)*R1*I1*(R1.T)*(Jw[0]) + m2*(Jv[1].T)*(Jv[1]) + (Jw[1].T)*R2*I2*(R2.T)*(Jw[1])\n",
    "Mass = sp.simplify(Mass)\n",
    "\n",
    "matrix_mass = Mass_Matrix(Jv,Jw,R,m,I)\n",
    "display(Mass)\n",
    "display(matrix_mass)"
   ]
  },
  {
   "cell_type": "code",
   "execution_count": 27,
   "metadata": {},
   "outputs": [
    {
     "data": {
      "text/latex": [
       "$\\displaystyle \\left[\\begin{matrix}0 & 0 & 0 & 0\\\\0 & 0 & 0 & 0\\\\0 & 0 & 0 & 0\\\\0 & 0 & 0 & 0\\end{matrix}\\right]$"
      ],
      "text/plain": [
       "⎡0  0  0  0⎤\n",
       "⎢          ⎥\n",
       "⎢0  0  0  0⎥\n",
       "⎢          ⎥\n",
       "⎢0  0  0  0⎥\n",
       "⎢          ⎥\n",
       "⎣0  0  0  0⎦"
      ]
     },
     "metadata": {},
     "output_type": "display_data"
    }
   ],
   "source": [
    "display(sp.zeros(4,4))"
   ]
  }
 ],
 "metadata": {
  "kernelspec": {
   "display_name": "Python 3",
   "language": "python",
   "name": "python3"
  },
  "language_info": {
   "codemirror_mode": {
    "name": "ipython",
    "version": 3
   },
   "file_extension": ".py",
   "mimetype": "text/x-python",
   "name": "python",
   "nbconvert_exporter": "python",
   "pygments_lexer": "ipython3",
   "version": "3.6.10"
  }
 },
 "nbformat": 4,
 "nbformat_minor": 4
}
