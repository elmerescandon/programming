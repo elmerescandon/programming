{
 "cells": [
  {
   "cell_type": "code",
   "execution_count": 35,
   "metadata": {
    "scrolled": true
   },
   "outputs": [],
   "source": [
    "import sympy as sp\n",
    "import numpy as np \n",
    "sp.init_printing()\n",
    "\n",
    "sin = sp.sin \n",
    "cos = sp.cos\n",
    "\n",
    "def linear_velocity_CoM(center_points,qs,z_axis,tipos):\n",
    "    '''\n",
    "    Velocidad lineal del centro de masa para articulaciones rotacionales\n",
    "    Se asume que los center_points estan colocados de manera ordenada \n",
    "    cp = [c1,c2,c3,...,cn]\n",
    "    qs = [q1,q2,q3,...,qn]\n",
    "    z_axis = [z_0,z_1,...,z_n]\n",
    "    '''\n",
    "    Js = []\n",
    "    for n in center_points: \n",
    "        Jv = sp.Matrix([])\n",
    "        for m in qs:\n",
    "            if tipos[qs.index(m)] == 'r':\n",
    "                a = n.diff(m)\n",
    "                Jv = sp.Matrix.hstack(Jv,a)\n",
    "            elif tipos[center_points.index(n)] == 'p':\n",
    "                if center_points.index(n)>= qs.index(m):\n",
    "                    Jv = sp.Matrix.hstack(Jv,z_axis[qs.index(m)])\n",
    "                else:\n",
    "                    print(\"Hola\")\n",
    "                    Jv = sp.Matrix.hstack(Jv,sp.Matrix([[0],[0],[0]]))\n",
    "        Js.append(Jv)\n",
    "    return Js\n",
    "        \n",
    "def angular_velocity_CoM(center_points,axis,tipos):\n",
    "    '''\n",
    "    Velocidad angular del centro de masa para articulaciones\n",
    "    rotacionales\n",
    "    input: z = [z0,z1,...,zn]\n",
    "    '''\n",
    "    Js = []\n",
    "    for n in range(len(center_points)): \n",
    "        Jv = sp.Matrix([])\n",
    "        for m in range(len(axis)): \n",
    "            if n>=m and tipos[m]=='r':\n",
    "                Jv = sp.Matrix.hstack(Jv,axis[m])\n",
    "            else:\n",
    "                Jv = sp.Matrix.hstack(Jv,sp.Matrix([[0],[0],[0]]))\n",
    "        Js.append(Jv)\n",
    "    return Js\n",
    "      \n",
    "def Mass_Matrix(Jv,Jw,R,m,I):\n",
    "    Mass = sp.zeros(len(m),len(m))\n",
    "    for a in range(len(m)):\n",
    "        Mass = m[a]*(Jv[a].T)*(Jv[a]) + (Jw[a].T)*R1*I[a]*(R1.T)*(Jw[a]) + Mass\n",
    "    return sp.simplify(Mass)\n",
    "\n",
    "def Christoffel_symbols(Mass_Matrix,qs,i,j,k):\n",
    "    c1 = Mass_Matrix[i,j].diff(qs[k])\n",
    "    c2 = Mass_Matrix[i,k].diff(qs[j])\n",
    "    c3 = Mass_Matrix[j,k].diff(qs[i])\n",
    "    return sp.simplify((1/2)*(c1+c2-c3))\n",
    "\n",
    "def Coriolis_Matrix(Mass_Matrix,q_dots,qs):\n",
    "    Coriolis = sp.zeros(Mass_Matrix.shape[1],Mass_Matrix.shape[1])\n",
    "    for i in range(Coriolis.shape[1]):\n",
    "        for j in range(Coriolis.shape[1]):\n",
    "            for  k in range(len(qs)):\n",
    "                c_ijk = Christoffel_symbols(Mass_Matrix,qs,i,j,k)\n",
    "                c_ijk = c_ijk*q_dots[k]\n",
    "                Coriolis[i,j] = c_ijk + Coriolis[i,j]\n",
    "    return sp.simplify(Coriolis)\n",
    "\n",
    "def GravitationalForce_vector(Jv,m,g):\n",
    "    Gravitational = sp.zeros(len(m),1)\n",
    "    for i in range(len(Jv)):\n",
    "        for k in range(len(m)):\n",
    "            g_acum = ((Jv[k][:,i]).T)*m[k]*g\n",
    "            Gravitational[i] = -g_acum[0] + Gravitational[i]\n",
    "    return sp.simplify(Gravitational)"
   ]
  },
  {
   "cell_type": "code",
   "execution_count": 7,
   "metadata": {},
   "outputs": [
    {
     "name": "stdout",
     "output_type": "stream",
     "text": [
      "hola\n",
      "hola\n"
     ]
    },
    {
     "data": {
      "text/latex": [
       "$\\displaystyle \\left[\\begin{matrix}I_{zz_1} + I_{zz_2} + l_{c_1}^{2} m_{1} + l_{c_1}^{2} m_{2} + 2 l_{c_1} l_{c_2} m_{2} \\cos{\\left(q_{2} \\right)} + l_{c_2}^{2} m_{2} & I_{zz_2} + l_{c_1} l_{c_2} m_{2} \\cos{\\left(q_{2} \\right)} + l_{c_2}^{2} m_{2}\\\\I_{zz_2} + l_{c_1} l_{c_2} m_{2} \\cos{\\left(q_{2} \\right)} + l_{c_2}^{2} m_{2} & I_{zz_2} + l_{c_2}^{2} m_{2}\\end{matrix}\\right]$"
      ],
      "text/plain": [
       "⎡                             2             2                                 \n",
       "⎢I_{zz_1} + I_{zz_2} + l_{c_1} ⋅m₁ + l_{c_1} ⋅m₂ + 2⋅l_{c_1}⋅l_{c_2}⋅m₂⋅cos(q₂\n",
       "⎢                                                                             \n",
       "⎢                                                                   2         \n",
       "⎣                    I_{zz_2} + l_{c_1}⋅l_{c_2}⋅m₂⋅cos(q₂) + l_{c_2} ⋅m₂      \n",
       "\n",
       "           2                                                    2   ⎤\n",
       ") + l_{c_2} ⋅m₂  I_{zz_2} + l_{c_1}⋅l_{c_2}⋅m₂⋅cos(q₂) + l_{c_2} ⋅m₂⎥\n",
       "                                                                    ⎥\n",
       "                                                 2                  ⎥\n",
       "                               I_{zz_2} + l_{c_2} ⋅m₂               ⎦"
      ]
     },
     "metadata": {},
     "output_type": "display_data"
    },
    {
     "data": {
      "text/latex": [
       "$\\displaystyle \\left[\\begin{matrix}- 1.0 \\dot{q_2} l_{c_1} l_{c_2} m_{2} \\sin{\\left(q_{2} \\right)} & - 1.0 l_{c_1} l_{c_2} m_{2} \\left(\\dot{q_1} + \\dot{q_2}\\right) \\sin{\\left(q_{2} \\right)}\\\\1.0 \\dot{q_1} l_{c_1} l_{c_2} m_{2} \\sin{\\left(q_{2} \\right)} & 0\\end{matrix}\\right]$"
      ],
      "text/plain": [
       "⎡-1.0⋅\\dot{q_2}⋅l_{c_1}⋅l_{c_2}⋅m₂⋅sin(q₂)  -1.0⋅l_{c_1}⋅l_{c_2}⋅m₂⋅(\\dot{q_1}\n",
       "⎢                                                                             \n",
       "⎣1.0⋅\\dot{q_1}⋅l_{c_1}⋅l_{c_2}⋅m₂⋅sin(q₂)                              0      \n",
       "\n",
       " + \\dot{q_2})⋅sin(q₂)⎤\n",
       "                     ⎥\n",
       "                     ⎦"
      ]
     },
     "metadata": {},
     "output_type": "display_data"
    },
    {
     "data": {
      "text/latex": [
       "$\\displaystyle \\left[\\begin{matrix}g \\left(l_{c_1} m_{1} \\cos{\\left(q_{1} \\right)} + m_{2} \\left(l_{c_1} \\cos{\\left(q_{1} \\right)} + l_{c_2} \\cos{\\left(q_{1} + q_{2} \\right)}\\right)\\right)\\\\g l_{c_2} m_{2} \\cos{\\left(q_{1} + q_{2} \\right)}\\end{matrix}\\right]$"
      ],
      "text/plain": [
       "⎡g⋅(l_{c_1}⋅m₁⋅cos(q₁) + m₂⋅(l_{c_1}⋅cos(q₁) + l_{c_2}⋅cos(q₁ + q₂)))⎤\n",
       "⎢                                                                    ⎥\n",
       "⎣                     g⋅l_{c_2}⋅m₂⋅cos(q₁ + q₂)                      ⎦"
      ]
     },
     "metadata": {},
     "output_type": "display_data"
    }
   ],
   "source": [
    "# Ejemplo 1: Péndulo Doble\n",
    "l1,l1c,l2,l2c,q1,q2 = sp.symbols(r'l_1 l_{c_1} l_2 l_{c_2} q_1 q_2')\n",
    "m1,m2,Izz1,Izz2 = sp.symbols(r'm_1 m_2 I_{zz_1} I_{zz_2}')\n",
    "qd1,qd2,g = sp.symbols(r'\\dot{q_1} \\dot{q_2} g')\n",
    "pc1 = sp.Matrix([[l1c*cos(q1)],\n",
    "                 [l1c*sin(q1)],\n",
    "                 [0]])\n",
    "pc2 = sp.Matrix([[l1c*cos(q1) + l2c*cos(q1+q2)],\n",
    "                 [l1c*sin(q1) + l2c*sin(q1+q2)],\n",
    "                 [0]])\n",
    "tipos_z = ['r','r']\n",
    "z0 = sp.Matrix([[0],[0],[1]])\n",
    "z1 = sp.Matrix([[0],[0],[1]])\n",
    "\n",
    "I1 = sp.Matrix([[0,0,0],\n",
    "                [0,0,0],\n",
    "                [0,0,Izz1]])\n",
    "I2 = sp.Matrix([[0,0,0],\n",
    "                [0,0,0],\n",
    "                [0,0,Izz2]])\n",
    "\n",
    "R1 = sp.Matrix([[cos(q1),sin(q1),0],\n",
    "                [-sin(q1),cos(q1),0],\n",
    "               [0,0,1]])\n",
    "R2 = sp.Matrix([[cos(q1+q2),sin(q1+q2),0],\n",
    "                [-sin(q1+q2),cos(q1+q2),0],\n",
    "               [0,0,1]])\n",
    "z = [z0,z1]\n",
    "qs =[q1,q2]\n",
    "cp = [pc1,pc2]\n",
    "\n",
    "Jv = linear_velocity_CoM(cp,qs,z,tipos_z)\n",
    "Jw = angular_velocity_CoM(cp,z,tipos_z)\n",
    "R = [R1,R2]\n",
    "m = [m1,m2]\n",
    "I = [I1,I2]\n",
    "q_dots = [qd1,qd2]\n",
    "g_vec = sp.Matrix([[0],[-g],[0]])        \n",
    "\n",
    "matrix_m = Mass_Matrix(Jv,Jw,R,m,I)\n",
    "matrix_c = Coriolis_Matrix(matrix_m,q_dots,qs)\n",
    "vector_g = GravitationalForce_vector(Jv,m,g_vec)\n",
    "display(matrix_m) \n",
    "display(matrix_c)\n",
    "display(vector_g)\n"
   ]
  },
  {
   "cell_type": "code",
   "execution_count": 36,
   "metadata": {},
   "outputs": [
    {
     "data": {
      "text/latex": [
       "$\\displaystyle \\left[ \\left[\\begin{matrix}- d_{1} \\sin{\\left(q_{1} \\right)}\\\\d_{1} \\cos{\\left(q_{1} \\right)}\\\\0\\end{matrix}\\right], \\  \\left[\\begin{matrix}- l_{1} \\sin{\\left(q_{1} \\right)} + q_{2} \\cos{\\left(q_{1} \\right)} & 0\\\\l_{1} \\cos{\\left(q_{1} \\right)} - q_{2} \\sin{\\left(q_{1} \\right)} & 0\\\\0 & 1\\end{matrix}\\right]\\right]$"
      ],
      "text/plain": [
       "⎡⎡-d₁⋅sin(q₁)⎤  ⎡-l₁⋅sin(q₁) + q₂⋅cos(q₁)  0⎤⎤\n",
       "⎢⎢           ⎥  ⎢                           ⎥⎥\n",
       "⎢⎢d₁⋅cos(q₁) ⎥, ⎢l₁⋅cos(q₁) - q₂⋅sin(q₁)   0⎥⎥\n",
       "⎢⎢           ⎥  ⎢                           ⎥⎥\n",
       "⎣⎣     0     ⎦  ⎣           0              1⎦⎦"
      ]
     },
     "metadata": {},
     "output_type": "display_data"
    },
    {
     "data": {
      "text/latex": [
       "$\\displaystyle \\left[ \\left[\\begin{matrix}0 & 0\\\\0 & 0\\\\1 & 0\\end{matrix}\\right], \\  \\left[\\begin{matrix}0 & 0\\\\0 & 0\\\\1 & 0\\end{matrix}\\right]\\right]$"
      ],
      "text/plain": [
       "⎡⎡0  0⎤  ⎡0  0⎤⎤\n",
       "⎢⎢    ⎥  ⎢    ⎥⎥\n",
       "⎢⎢0  0⎥, ⎢0  0⎥⎥\n",
       "⎢⎢    ⎥  ⎢    ⎥⎥\n",
       "⎣⎣1  0⎦  ⎣1  0⎦⎦"
      ]
     },
     "metadata": {},
     "output_type": "display_data"
    }
   ],
   "source": [
    "# Ejemplo 2: Robot Planar RP\n",
    "q1,q2,l1,l2,d1,Izz1,Izz2,m1,m2 = sp.symbols(r'q_1 q_2 l_1 l_1 d_1 I_{zz_1} I_{zz_2} m_1 m_2')\n",
    "pc1 = sp.Matrix([[d1*cos(q1)],\n",
    "                 [d1*sin(q1)],\n",
    "                 [0]])\n",
    "pc2 = sp.Matrix([[l1*cos(q1)+q2*sin(q1)],\n",
    "                 [l1*sin(q1)+q2*cos(q1)],\n",
    "                 [0]])\n",
    "I1 = sp.Matrix([[0,0,0],\n",
    "                [0,0,0],\n",
    "                [0,0,Izz1]])\n",
    "I2 = sp.Matrix([[0,0,0],\n",
    "                [0,0,0],\n",
    "                [0,0,Izz2]])\n",
    "R1 =  sp.Matrix([[1,0,0],\n",
    "                 [0,1,0],\n",
    "                 [0,0,1]])\n",
    "R2 =  sp.Matrix([[1,0,0],\n",
    "                 [0,1,0],\n",
    "                 [0,0,1]])\n",
    "z = [R1[0:3,2],R2[0:3,2]]\n",
    "tipos_z= ['r','p']\n",
    "cp = [pc1,pc2]\n",
    "qs = [q1,q2]\n",
    "Jv = linear_velocity_CoM(cp,qs,z,tipos_z)\n",
    "Jw = angular_velocity_CoM(cp,z,tipos_z)\n",
    "\n",
    "display(Jv)\n",
    "display(Jw)"
   ]
  }
 ],
 "metadata": {
  "kernelspec": {
   "display_name": "Python 3",
   "language": "python",
   "name": "python3"
  },
  "language_info": {
   "codemirror_mode": {
    "name": "ipython",
    "version": 3
   },
   "file_extension": ".py",
   "mimetype": "text/x-python",
   "name": "python",
   "nbconvert_exporter": "python",
   "pygments_lexer": "ipython3",
   "version": "3.8.3"
  }
 },
 "nbformat": 4,
 "nbformat_minor": 4
}
